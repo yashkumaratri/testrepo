{
 "cells": [
  {
   "cell_type": "code",
   "execution_count": 3,
   "metadata": {
    "nbpresent": {
     "id": "815c3be3-fadd-4f87-b23a-671420a9ff11"
    }
   },
   "outputs": [],
   "source": [
    "from encoder import Model\n",
    "from utils import preprocess\n",
    "import numpy as np\n",
    "import utils\n",
    "import seaborn as sns\n",
    "import math\n",
    "import os\n",
    "import matplotlib.pyplot as plt\n",
    "%matplotlib inline"
   ]
  },
  {
   "cell_type": "code",
   "execution_count": 4,
   "metadata": {
    "nbpresent": {
     "id": "8f421261-e838-41cf-9cae-0c2e8e78173f"
    }
   },
   "outputs": [
    {
     "ename": "ValueError",
     "evalue": "Variable model/embedding/w already exists, disallowed. Did you mean to set reuse=True or reuse=tf.AUTO_REUSE in VarScope? Originally defined at:\n\n  File \"/home/aurora/Music/html end data/riseml/encoder.py\", line 23, in embd\n    \"w\", [hps.nvocab, ndim], initializer=load_params)\n  File \"/home/aurora/Music/html end data/riseml/encoder.py\", line 98, in model\n    words = embd(X, hps.nembd)\n  File \"/home/aurora/Music/html end data/riseml/encoder.py\", line 176, in __init__\n    cells, states, logits = model(X, S, M, reuse=False)\n",
     "output_type": "error",
     "traceback": [
      "\u001b[0;31m---------------------------------------------------------------------------\u001b[0m",
      "\u001b[0;31mValueError\u001b[0m                                Traceback (most recent call last)",
      "\u001b[0;32m<ipython-input-4-e3d397de7fe1>\u001b[0m in \u001b[0;36m<module>\u001b[0;34m()\u001b[0m\n\u001b[0;32m----> 1\u001b[0;31m \u001b[0mmodel\u001b[0m \u001b[0;34m=\u001b[0m \u001b[0mModel\u001b[0m\u001b[0;34m(\u001b[0m\u001b[0;34m)\u001b[0m\u001b[0;34m\u001b[0m\u001b[0m\n\u001b[0m",
      "\u001b[0;32m~/Music/html end data/riseml/encoder.py\u001b[0m in \u001b[0;36m__init__\u001b[0;34m(self, nbatch, nsteps)\u001b[0m\n\u001b[1;32m    174\u001b[0m         \u001b[0mM\u001b[0m \u001b[0;34m=\u001b[0m \u001b[0mtf\u001b[0m\u001b[0;34m.\u001b[0m\u001b[0mplaceholder\u001b[0m\u001b[0;34m(\u001b[0m\u001b[0mtf\u001b[0m\u001b[0;34m.\u001b[0m\u001b[0mfloat32\u001b[0m\u001b[0;34m,\u001b[0m \u001b[0;34m[\u001b[0m\u001b[0;32mNone\u001b[0m\u001b[0;34m,\u001b[0m \u001b[0mhps\u001b[0m\u001b[0;34m.\u001b[0m\u001b[0mnsteps\u001b[0m\u001b[0;34m,\u001b[0m \u001b[0;36m1\u001b[0m\u001b[0;34m]\u001b[0m\u001b[0;34m)\u001b[0m\u001b[0;34m\u001b[0m\u001b[0m\n\u001b[1;32m    175\u001b[0m         \u001b[0mS\u001b[0m \u001b[0;34m=\u001b[0m \u001b[0mtf\u001b[0m\u001b[0;34m.\u001b[0m\u001b[0mplaceholder\u001b[0m\u001b[0;34m(\u001b[0m\u001b[0mtf\u001b[0m\u001b[0;34m.\u001b[0m\u001b[0mfloat32\u001b[0m\u001b[0;34m,\u001b[0m \u001b[0;34m[\u001b[0m\u001b[0mhps\u001b[0m\u001b[0;34m.\u001b[0m\u001b[0mnstates\u001b[0m\u001b[0;34m,\u001b[0m \u001b[0;32mNone\u001b[0m\u001b[0;34m,\u001b[0m \u001b[0mhps\u001b[0m\u001b[0;34m.\u001b[0m\u001b[0mnhidden\u001b[0m\u001b[0;34m]\u001b[0m\u001b[0;34m)\u001b[0m\u001b[0;34m\u001b[0m\u001b[0m\n\u001b[0;32m--> 176\u001b[0;31m         \u001b[0mcells\u001b[0m\u001b[0;34m,\u001b[0m \u001b[0mstates\u001b[0m\u001b[0;34m,\u001b[0m \u001b[0mlogits\u001b[0m \u001b[0;34m=\u001b[0m \u001b[0mmodel\u001b[0m\u001b[0;34m(\u001b[0m\u001b[0mX\u001b[0m\u001b[0;34m,\u001b[0m \u001b[0mS\u001b[0m\u001b[0;34m,\u001b[0m \u001b[0mM\u001b[0m\u001b[0;34m,\u001b[0m \u001b[0mreuse\u001b[0m\u001b[0;34m=\u001b[0m\u001b[0;32mFalse\u001b[0m\u001b[0;34m)\u001b[0m\u001b[0;34m\u001b[0m\u001b[0m\n\u001b[0m\u001b[1;32m    177\u001b[0m \u001b[0;34m\u001b[0m\u001b[0m\n\u001b[1;32m    178\u001b[0m         \u001b[0msess\u001b[0m \u001b[0;34m=\u001b[0m \u001b[0mtf\u001b[0m\u001b[0;34m.\u001b[0m\u001b[0mSession\u001b[0m\u001b[0;34m(\u001b[0m\u001b[0;34m)\u001b[0m\u001b[0;34m\u001b[0m\u001b[0m\n",
      "\u001b[0;32m~/Music/html end data/riseml/encoder.py\u001b[0m in \u001b[0;36mmodel\u001b[0;34m(X, S, M, reuse)\u001b[0m\n\u001b[1;32m     96\u001b[0m     \u001b[0mcstart\u001b[0m\u001b[0;34m,\u001b[0m \u001b[0mhstart\u001b[0m \u001b[0;34m=\u001b[0m \u001b[0mtf\u001b[0m\u001b[0;34m.\u001b[0m\u001b[0munstack\u001b[0m\u001b[0;34m(\u001b[0m\u001b[0mS\u001b[0m\u001b[0;34m,\u001b[0m \u001b[0mnum\u001b[0m\u001b[0;34m=\u001b[0m\u001b[0mhps\u001b[0m\u001b[0;34m.\u001b[0m\u001b[0mnstates\u001b[0m\u001b[0;34m)\u001b[0m\u001b[0;34m\u001b[0m\u001b[0m\n\u001b[1;32m     97\u001b[0m     \u001b[0;32mwith\u001b[0m \u001b[0mtf\u001b[0m\u001b[0;34m.\u001b[0m\u001b[0mvariable_scope\u001b[0m\u001b[0;34m(\u001b[0m\u001b[0;34m'model'\u001b[0m\u001b[0;34m,\u001b[0m \u001b[0mreuse\u001b[0m\u001b[0;34m=\u001b[0m\u001b[0mreuse\u001b[0m\u001b[0;34m)\u001b[0m\u001b[0;34m:\u001b[0m\u001b[0;34m\u001b[0m\u001b[0m\n\u001b[0;32m---> 98\u001b[0;31m         \u001b[0mwords\u001b[0m \u001b[0;34m=\u001b[0m \u001b[0membd\u001b[0m\u001b[0;34m(\u001b[0m\u001b[0mX\u001b[0m\u001b[0;34m,\u001b[0m \u001b[0mhps\u001b[0m\u001b[0;34m.\u001b[0m\u001b[0mnembd\u001b[0m\u001b[0;34m)\u001b[0m\u001b[0;34m\u001b[0m\u001b[0m\n\u001b[0m\u001b[1;32m     99\u001b[0m         \u001b[0minputs\u001b[0m \u001b[0;34m=\u001b[0m \u001b[0;34m[\u001b[0m\u001b[0mtf\u001b[0m\u001b[0;34m.\u001b[0m\u001b[0msqueeze\u001b[0m\u001b[0;34m(\u001b[0m\u001b[0mv\u001b[0m\u001b[0;34m,\u001b[0m \u001b[0;34m[\u001b[0m\u001b[0;36m1\u001b[0m\u001b[0;34m]\u001b[0m\u001b[0;34m)\u001b[0m \u001b[0;32mfor\u001b[0m \u001b[0mv\u001b[0m \u001b[0;32min\u001b[0m \u001b[0mtf\u001b[0m\u001b[0;34m.\u001b[0m\u001b[0msplit\u001b[0m\u001b[0;34m(\u001b[0m\u001b[0maxis\u001b[0m\u001b[0;34m=\u001b[0m\u001b[0;36m1\u001b[0m\u001b[0;34m,\u001b[0m \u001b[0mnum_or_size_splits\u001b[0m\u001b[0;34m=\u001b[0m\u001b[0mnsteps\u001b[0m\u001b[0;34m,\u001b[0m \u001b[0mvalue\u001b[0m\u001b[0;34m=\u001b[0m\u001b[0mwords\u001b[0m\u001b[0;34m)\u001b[0m\u001b[0;34m]\u001b[0m\u001b[0;34m\u001b[0m\u001b[0m\n\u001b[1;32m    100\u001b[0m         hs, cells, cfinal, hfinal = mlstm(\n",
      "\u001b[0;32m~/Music/html end data/riseml/encoder.py\u001b[0m in \u001b[0;36membd\u001b[0;34m(X, ndim, scope)\u001b[0m\n\u001b[1;32m     21\u001b[0m     \u001b[0;32mwith\u001b[0m \u001b[0mtf\u001b[0m\u001b[0;34m.\u001b[0m\u001b[0mvariable_scope\u001b[0m\u001b[0;34m(\u001b[0m\u001b[0mscope\u001b[0m\u001b[0;34m)\u001b[0m\u001b[0;34m:\u001b[0m\u001b[0;34m\u001b[0m\u001b[0m\n\u001b[1;32m     22\u001b[0m         embd = tf.get_variable(\n\u001b[0;32m---> 23\u001b[0;31m             \"w\", [hps.nvocab, ndim], initializer=load_params)\n\u001b[0m\u001b[1;32m     24\u001b[0m         \u001b[0mh\u001b[0m \u001b[0;34m=\u001b[0m \u001b[0mtf\u001b[0m\u001b[0;34m.\u001b[0m\u001b[0mnn\u001b[0m\u001b[0;34m.\u001b[0m\u001b[0membedding_lookup\u001b[0m\u001b[0;34m(\u001b[0m\u001b[0membd\u001b[0m\u001b[0;34m,\u001b[0m \u001b[0mX\u001b[0m\u001b[0;34m)\u001b[0m\u001b[0;34m\u001b[0m\u001b[0m\n\u001b[1;32m     25\u001b[0m         \u001b[0;32mreturn\u001b[0m \u001b[0mh\u001b[0m\u001b[0;34m\u001b[0m\u001b[0m\n",
      "\u001b[0;32m~/anaconda3/lib/python3.6/site-packages/tensorflow/python/ops/variable_scope.py\u001b[0m in \u001b[0;36mget_variable\u001b[0;34m(name, shape, dtype, initializer, regularizer, trainable, collections, caching_device, partitioner, validate_shape, use_resource, custom_getter, constraint)\u001b[0m\n\u001b[1;32m   1295\u001b[0m       \u001b[0mpartitioner\u001b[0m\u001b[0;34m=\u001b[0m\u001b[0mpartitioner\u001b[0m\u001b[0;34m,\u001b[0m \u001b[0mvalidate_shape\u001b[0m\u001b[0;34m=\u001b[0m\u001b[0mvalidate_shape\u001b[0m\u001b[0;34m,\u001b[0m\u001b[0;34m\u001b[0m\u001b[0m\n\u001b[1;32m   1296\u001b[0m       \u001b[0muse_resource\u001b[0m\u001b[0;34m=\u001b[0m\u001b[0muse_resource\u001b[0m\u001b[0;34m,\u001b[0m \u001b[0mcustom_getter\u001b[0m\u001b[0;34m=\u001b[0m\u001b[0mcustom_getter\u001b[0m\u001b[0;34m,\u001b[0m\u001b[0;34m\u001b[0m\u001b[0m\n\u001b[0;32m-> 1297\u001b[0;31m       constraint=constraint)\n\u001b[0m\u001b[1;32m   1298\u001b[0m get_variable_or_local_docstring = (\n\u001b[1;32m   1299\u001b[0m     \"\"\"%s\n",
      "\u001b[0;32m~/anaconda3/lib/python3.6/site-packages/tensorflow/python/ops/variable_scope.py\u001b[0m in \u001b[0;36mget_variable\u001b[0;34m(self, var_store, name, shape, dtype, initializer, regularizer, reuse, trainable, collections, caching_device, partitioner, validate_shape, use_resource, custom_getter, constraint)\u001b[0m\n\u001b[1;32m   1091\u001b[0m           \u001b[0mpartitioner\u001b[0m\u001b[0;34m=\u001b[0m\u001b[0mpartitioner\u001b[0m\u001b[0;34m,\u001b[0m \u001b[0mvalidate_shape\u001b[0m\u001b[0;34m=\u001b[0m\u001b[0mvalidate_shape\u001b[0m\u001b[0;34m,\u001b[0m\u001b[0;34m\u001b[0m\u001b[0m\n\u001b[1;32m   1092\u001b[0m           \u001b[0muse_resource\u001b[0m\u001b[0;34m=\u001b[0m\u001b[0muse_resource\u001b[0m\u001b[0;34m,\u001b[0m \u001b[0mcustom_getter\u001b[0m\u001b[0;34m=\u001b[0m\u001b[0mcustom_getter\u001b[0m\u001b[0;34m,\u001b[0m\u001b[0;34m\u001b[0m\u001b[0m\n\u001b[0;32m-> 1093\u001b[0;31m           constraint=constraint)\n\u001b[0m\u001b[1;32m   1094\u001b[0m \u001b[0;34m\u001b[0m\u001b[0m\n\u001b[1;32m   1095\u001b[0m   def _get_partitioned_variable(self,\n",
      "\u001b[0;32m~/anaconda3/lib/python3.6/site-packages/tensorflow/python/ops/variable_scope.py\u001b[0m in \u001b[0;36mget_variable\u001b[0;34m(self, name, shape, dtype, initializer, regularizer, reuse, trainable, collections, caching_device, partitioner, validate_shape, use_resource, custom_getter, constraint)\u001b[0m\n\u001b[1;32m    437\u001b[0m           \u001b[0mcaching_device\u001b[0m\u001b[0;34m=\u001b[0m\u001b[0mcaching_device\u001b[0m\u001b[0;34m,\u001b[0m \u001b[0mpartitioner\u001b[0m\u001b[0;34m=\u001b[0m\u001b[0mpartitioner\u001b[0m\u001b[0;34m,\u001b[0m\u001b[0;34m\u001b[0m\u001b[0m\n\u001b[1;32m    438\u001b[0m           \u001b[0mvalidate_shape\u001b[0m\u001b[0;34m=\u001b[0m\u001b[0mvalidate_shape\u001b[0m\u001b[0;34m,\u001b[0m \u001b[0muse_resource\u001b[0m\u001b[0;34m=\u001b[0m\u001b[0muse_resource\u001b[0m\u001b[0;34m,\u001b[0m\u001b[0;34m\u001b[0m\u001b[0m\n\u001b[0;32m--> 439\u001b[0;31m           constraint=constraint)\n\u001b[0m\u001b[1;32m    440\u001b[0m \u001b[0;34m\u001b[0m\u001b[0m\n\u001b[1;32m    441\u001b[0m   def _get_partitioned_variable(\n",
      "\u001b[0;32m~/anaconda3/lib/python3.6/site-packages/tensorflow/python/ops/variable_scope.py\u001b[0m in \u001b[0;36m_true_getter\u001b[0;34m(name, shape, dtype, initializer, regularizer, reuse, trainable, collections, caching_device, partitioner, validate_shape, use_resource, constraint)\u001b[0m\n\u001b[1;32m    406\u001b[0m           \u001b[0mtrainable\u001b[0m\u001b[0;34m=\u001b[0m\u001b[0mtrainable\u001b[0m\u001b[0;34m,\u001b[0m \u001b[0mcollections\u001b[0m\u001b[0;34m=\u001b[0m\u001b[0mcollections\u001b[0m\u001b[0;34m,\u001b[0m\u001b[0;34m\u001b[0m\u001b[0m\n\u001b[1;32m    407\u001b[0m           \u001b[0mcaching_device\u001b[0m\u001b[0;34m=\u001b[0m\u001b[0mcaching_device\u001b[0m\u001b[0;34m,\u001b[0m \u001b[0mvalidate_shape\u001b[0m\u001b[0;34m=\u001b[0m\u001b[0mvalidate_shape\u001b[0m\u001b[0;34m,\u001b[0m\u001b[0;34m\u001b[0m\u001b[0m\n\u001b[0;32m--> 408\u001b[0;31m           use_resource=use_resource, constraint=constraint)\n\u001b[0m\u001b[1;32m    409\u001b[0m \u001b[0;34m\u001b[0m\u001b[0m\n\u001b[1;32m    410\u001b[0m     \u001b[0;32mif\u001b[0m \u001b[0mcustom_getter\u001b[0m \u001b[0;32mis\u001b[0m \u001b[0;32mnot\u001b[0m \u001b[0;32mNone\u001b[0m\u001b[0;34m:\u001b[0m\u001b[0;34m\u001b[0m\u001b[0m\n",
      "\u001b[0;32m~/anaconda3/lib/python3.6/site-packages/tensorflow/python/ops/variable_scope.py\u001b[0m in \u001b[0;36m_get_single_variable\u001b[0;34m(self, name, shape, dtype, initializer, regularizer, partition_info, reuse, trainable, collections, caching_device, validate_shape, use_resource, constraint)\u001b[0m\n\u001b[1;32m    745\u001b[0m                          \u001b[0;34m\"reuse=tf.AUTO_REUSE in VarScope? \"\u001b[0m\u001b[0;34m\u001b[0m\u001b[0m\n\u001b[1;32m    746\u001b[0m                          \"Originally defined at:\\n\\n%s\" % (\n\u001b[0;32m--> 747\u001b[0;31m                              name, \"\".join(traceback.format_list(tb))))\n\u001b[0m\u001b[1;32m    748\u001b[0m       \u001b[0mfound_var\u001b[0m \u001b[0;34m=\u001b[0m \u001b[0mself\u001b[0m\u001b[0;34m.\u001b[0m\u001b[0m_vars\u001b[0m\u001b[0;34m[\u001b[0m\u001b[0mname\u001b[0m\u001b[0;34m]\u001b[0m\u001b[0;34m\u001b[0m\u001b[0m\n\u001b[1;32m    749\u001b[0m       \u001b[0;32mif\u001b[0m \u001b[0;32mnot\u001b[0m \u001b[0mshape\u001b[0m\u001b[0;34m.\u001b[0m\u001b[0mis_compatible_with\u001b[0m\u001b[0;34m(\u001b[0m\u001b[0mfound_var\u001b[0m\u001b[0;34m.\u001b[0m\u001b[0mget_shape\u001b[0m\u001b[0;34m(\u001b[0m\u001b[0;34m)\u001b[0m\u001b[0;34m)\u001b[0m\u001b[0;34m:\u001b[0m\u001b[0;34m\u001b[0m\u001b[0m\n",
      "\u001b[0;31mValueError\u001b[0m: Variable model/embedding/w already exists, disallowed. Did you mean to set reuse=True or reuse=tf.AUTO_REUSE in VarScope? Originally defined at:\n\n  File \"/home/aurora/Music/html end data/riseml/encoder.py\", line 23, in embd\n    \"w\", [hps.nvocab, ndim], initializer=load_params)\n  File \"/home/aurora/Music/html end data/riseml/encoder.py\", line 98, in model\n    words = embd(X, hps.nembd)\n  File \"/home/aurora/Music/html end data/riseml/encoder.py\", line 176, in __init__\n    cells, states, logits = model(X, S, M, reuse=False)\n"
     ]
    }
   ],
   "source": [
    "model = Model()"
   ]
  },
  {
   "cell_type": "code",
   "execution_count": 5,
   "metadata": {},
   "outputs": [],
   "source": [
    "out_text = \"Show an example of a longer sentence, and show what you want it to look like instead. The example here seems totally fine and it's hard to get a picture of what you want with the information provided. For example, do you want to insert newlines? Do you want to be able to scroll through a longer sentence? \""
   ]
  },
  {
   "cell_type": "code",
   "execution_count": null,
   "metadata": {},
   "outputs": [],
   "source": []
  },
  {
   "cell_type": "code",
   "execution_count": 6,
   "metadata": {},
   "outputs": [],
   "source": [
    "sentiment_neuron_index = 2388"
   ]
  },
  {
   "cell_type": "code",
   "execution_count": 7,
   "metadata": {},
   "outputs": [],
   "source": [
    "def get_tracked_neuron_values_for_a_review(model, review_text, track_indices):\n",
    "    feats, tracked_indices_values = model.transform([review_text], track_indices=track_indices)\n",
    "    return np.array([np.array(vals).flatten() for vals in tracked_indices_values])"
   ]
  },
  {
   "cell_type": "code",
   "execution_count": 8,
   "metadata": {},
   "outputs": [
    {
     "name": "stdout",
     "output_type": "stream",
     "text": [
      "19.891 seconds to transform 1 examples\n"
     ]
    }
   ],
   "source": [
    "neuron_values = get_tracked_neuron_values_for_a_review(model, out_text, [sentiment_neuron_index])[0]"
   ]
  },
  {
   "cell_type": "code",
   "execution_count": 9,
   "metadata": {},
   "outputs": [
    {
     "data": {
      "text/plain": [
       "array([ 1.25873582e-02,  3.54458205e-02,  9.67460498e-02,  1.09809220e-01,\n",
       "        1.06984690e-01,  1.04571640e-01,  1.22914851e-01,  1.56532228e-01,\n",
       "        9.14330706e-02,  9.38563645e-02,  8.67169201e-02,  7.58174807e-02,\n",
       "        7.69933611e-02, -3.16866040e-02, -4.41331491e-02, -4.48063351e-02,\n",
       "       -4.11727279e-02,  9.56814513e-02,  6.89220279e-02,  7.36887753e-02,\n",
       "        7.63933286e-02,  7.97699988e-02,  7.27162585e-02,  9.54217613e-02,\n",
       "        1.03988536e-01,  1.10017121e-01,  1.10814132e-01,  1.47091836e-01,\n",
       "        1.65025890e-01,  1.67410433e-01,  1.60119101e-01,  1.60366222e-01,\n",
       "        1.52030706e-01,  1.54916495e-01,  1.56540632e-01,  1.48761049e-01,\n",
       "        1.27519161e-01,  2.01172054e-01,  1.18105330e-01,  1.28512532e-01,\n",
       "        1.43110156e-01,  1.43505782e-01,  1.61354795e-01,  1.38319895e-01,\n",
       "        1.26231283e-01,  1.21347614e-01,  1.21751837e-01,  1.20558269e-01,\n",
       "        1.29459083e-01,  1.29192904e-01,  1.52273089e-01,  1.55596614e-01,\n",
       "        1.55952021e-01,  1.66406125e-01,  1.68501988e-01,  1.63820028e-01,\n",
       "        1.85251340e-01,  1.87813804e-01,  1.88933551e-01,  1.88028231e-01,\n",
       "        1.91831425e-01,  2.11279467e-01,  2.32258290e-01,  2.35885248e-01,\n",
       "        2.35720038e-01,  2.42690682e-01,  2.43264094e-01,  2.31828123e-01,\n",
       "        2.30789930e-01,  2.34361738e-01,  2.36929923e-01,  2.33895198e-01,\n",
       "        2.33728245e-01,  2.42459580e-01,  2.42854044e-01,  2.37263814e-01,\n",
       "        2.36229941e-01,  2.34855190e-01,  2.54915774e-01,  2.57546484e-01,\n",
       "        2.55347461e-01,  2.50262737e-01,  2.52017140e-01,  2.51006246e-01,\n",
       "        2.50968784e-01,  2.23235354e-01,  1.20778166e-01,  1.08505905e-01,\n",
       "        1.30437255e-01,  1.21686555e-01,  1.22990273e-01,  1.12795606e-01,\n",
       "        1.11945778e-01,  1.01675443e-01,  1.01839744e-01,  3.84688601e-02,\n",
       "        3.31247374e-02,  3.32565755e-02,  3.50883082e-02,  1.19420085e-02,\n",
       "        6.50905864e-03,  1.06832618e-03, -2.14687316e-04, -1.47312484e-03,\n",
       "       -1.43520497e-02, -3.56907472e-02, -3.60086486e-02, -3.57000828e-02,\n",
       "       -5.72587028e-02, -9.49404091e-02, -9.71709713e-02, -9.27571356e-02,\n",
       "       -1.19312622e-01, -1.19900018e-01, -1.18234880e-01, -1.19344667e-01,\n",
       "       -1.20639771e-01, -9.29200947e-02, -1.20684057e-01, -1.22435130e-01,\n",
       "       -1.26800746e-01, -1.28197297e-01, -1.76746413e-01, -1.36776790e-01,\n",
       "       -1.44259065e-01, -1.56509876e-01, -1.43488109e-01, -1.29744381e-01,\n",
       "       -1.31575331e-01, -1.51341811e-01, -1.43596306e-01, -1.46546677e-01,\n",
       "       -1.44875482e-01, -1.44134909e-01, -1.47731259e-01, -1.50153086e-01,\n",
       "       -1.52853623e-01, -1.51330277e-01, -1.46448627e-01, -1.22263089e-01,\n",
       "       -1.24865025e-01, -1.21769980e-01, -1.21180817e-01, -1.11516863e-01,\n",
       "       -1.18981302e-01, -1.19305670e-01, -1.20006576e-01, -1.19072892e-01,\n",
       "       -1.17179610e-01, -1.17260098e-01, -1.17042787e-01, -1.22578524e-01,\n",
       "       -1.21851742e-01, -1.27924055e-01, -1.33624598e-01, -1.35122702e-01,\n",
       "       -1.35711983e-01, -1.41515523e-01, -1.39653772e-01, -1.19490959e-01,\n",
       "       -1.18202388e-01, -1.17639676e-01, -1.17832176e-01, -1.14922754e-01,\n",
       "       -1.16982244e-01, -1.08377211e-01, -1.09010749e-01, -1.08731315e-01,\n",
       "       -1.06592670e-01, -1.07076198e-01, -1.01655886e-01, -1.03344753e-01,\n",
       "       -1.03588156e-01, -1.04075536e-01, -1.03574008e-01, -1.04584098e-01,\n",
       "       -1.07606582e-01, -1.07907549e-01, -1.05906993e-01, -1.04663469e-01,\n",
       "       -1.06200993e-01, -1.04963131e-01, -1.07110150e-01, -1.07303001e-01,\n",
       "       -1.19168788e-01, -1.19341083e-01, -1.19431451e-01, -1.20530918e-01,\n",
       "       -1.20268464e-01, -1.22892961e-01, -1.24134935e-01, -1.24057844e-01,\n",
       "       -1.24492422e-01, -1.23698324e-01, -1.23918414e-01, -1.29225850e-01,\n",
       "       -1.29155695e-01, -1.31175905e-01, -1.31417811e-01, -1.33098170e-01,\n",
       "       -1.35265470e-01, -1.36351809e-01, -1.85327470e-01, -2.07664847e-01,\n",
       "       -2.07435369e-01, -1.99025810e-01, -1.97618291e-01, -2.03691036e-01,\n",
       "       -2.12827638e-01, -2.13536561e-01, -2.69094229e-01, -2.75253564e-01,\n",
       "       -2.73843825e-01, -2.85250098e-01, -2.77821064e-01, -2.87108541e-01,\n",
       "       -2.83474773e-01, -2.85248607e-01, -2.85142034e-01, -2.75250912e-01,\n",
       "       -2.71215856e-01, -2.51369476e-01, -2.64032662e-01, -2.63067365e-01,\n",
       "       -2.61845797e-01, -2.58687973e-01, -2.56715566e-01, -2.61863768e-01,\n",
       "       -2.58303851e-01, -2.51214743e-01, -2.57771194e-01, -2.52334654e-01,\n",
       "       -2.52923697e-01, -2.57822871e-01, -2.59006977e-01, -2.60168284e-01,\n",
       "       -2.61965305e-01, -2.68399119e-01, -2.74910480e-01, -2.75468886e-01,\n",
       "       -2.75474310e-01, -2.72547483e-01, -2.69943446e-01, -2.69650608e-01,\n",
       "       -2.69881874e-01, -2.73298174e-01, -2.82506019e-01, -3.02702993e-01,\n",
       "       -3.02330524e-01, -3.07064861e-01, -3.06888819e-01, -2.99427003e-01,\n",
       "       -3.00703049e-01, -2.81152934e-01, -2.94234961e-01, -2.93506563e-01,\n",
       "       -2.92649329e-01, -2.89599925e-01, -2.88009197e-01, -2.95766056e-01,\n",
       "       -2.92470902e-01, -2.81925976e-01, -2.93533683e-01, -2.92165637e-01,\n",
       "       -2.90185004e-01, -2.89372236e-01, -2.89419413e-01, -2.89843380e-01,\n",
       "       -2.81826884e-01, -2.95676738e-01, -2.90480673e-01, -2.87731886e-01,\n",
       "       -2.81709105e-01, -2.88288176e-01, -2.89730489e-01, -2.89613277e-01,\n",
       "       -2.90531307e-01, -2.95890540e-01, -2.95926422e-01, -2.95933127e-01,\n",
       "       -3.02174956e-01, -3.03876281e-01, -3.04495573e-01, -3.03781092e-01,\n",
       "       -3.14638823e-01, -3.15486252e-01, -3.15452248e-01, -3.16331416e-01,\n",
       "       -3.21017534e-01, -3.19184929e-01, -3.19998175e-01, -3.19124252e-01,\n",
       "       -3.20049226e-01, -3.20185542e-01, -3.19970161e-01, -3.14859986e-01,\n",
       "       -3.05328876e-01, -3.11492920e-01, -3.15343320e-01, -3.15153569e-01,\n",
       "       -3.15762281e-01, -3.16211760e-01, -3.16084146e-01, -3.18835139e-01,\n",
       "       -3.23314935e-01, -3.03091049e-01, -3.08489203e-01, -3.35535765e-01,\n",
       "       -3.35535765e-01, -3.35535765e-01, -3.35535765e-01, -3.35535765e-01,\n",
       "       -3.35535765e-01, -3.35535765e-01, -3.35535765e-01, -3.35535765e-01,\n",
       "       -3.35535765e-01, -3.35535765e-01, -3.35535765e-01, -3.35535765e-01],\n",
       "      dtype=float32)"
      ]
     },
     "execution_count": 9,
     "metadata": {},
     "output_type": "execute_result"
    }
   ],
   "source": [
    "neuron_values"
   ]
  },
  {
   "cell_type": "code",
   "execution_count": 10,
   "metadata": {},
   "outputs": [],
   "source": [
    "count = len(neuron_values)"
   ]
  },
  {
   "cell_type": "code",
   "execution_count": 11,
   "metadata": {},
   "outputs": [],
   "source": [
    "hello = list(out_text)"
   ]
  },
  {
   "cell_type": "code",
   "execution_count": 12,
   "metadata": {},
   "outputs": [],
   "source": [
    "def plot_neuron_heatmap(text, values, savename=None, negate=False, cell_height=.112, cell_width=.92):\n",
    "    #n_limit = 832\n",
    "    cell_height=.325\n",
    "    cell_width=.15\n",
    "    n_limit = count\n",
    "    num_chars = len(text)\n",
    "    text = list(map(lambda x: x.replace('\\n', '\\\\n'), text))\n",
    "    num_chars = len(text)\n",
    "    total_chars = math.ceil(num_chars/float(n_limit))*n_limit\n",
    "    mask = np.array([0]*num_chars + [1]*(total_chars-num_chars))\n",
    "    text = np.array(text+[' ']*(total_chars-num_chars))\n",
    "    values = np.array((values+[0])*(total_chars-num_chars))\n",
    "\n",
    "    values = values.reshape(-1, n_limit)\n",
    "    text = text.reshape(-1, n_limit)\n",
    "    mask = mask.reshape(-1, n_limit)\n",
    "    num_rows = len(values)\n",
    "    plt.figure(figsize=(cell_width*n_limit, cell_height*num_rows))\n",
    "    hmap=sns.heatmap(values, annot=text, mask=mask, fmt='', vmin=-5, vmax=5, cmap='RdYlGn',xticklabels=False, yticklabels=False, cbar=False)\n",
    "    plt.subplots_adjust() \n",
    "    #plt.tight_layout()\n",
    "    plt.savefig('fig1.png')\n",
    "    #plt.show()"
   ]
  },
  {
   "cell_type": "code",
   "execution_count": 13,
   "metadata": {},
   "outputs": [
    {
     "data": {
      "image/png": "[encoded data removed]",
      "text/plain": [
       "<matplotlib.figure.Figure at 0x7ff64bda7d30>"
      ]
     },
     "metadata": {},
     "output_type": "display_data"
    }
   ],
   "source": [
    "#map = plot_neuron_heatmap(review_text, neuron_values)\n",
    "plot_neuron_heatmap(hello, neuron_values)"
   ]
  },
  {
   "cell_type": "code",
   "execution_count": null,
   "metadata": {},
   "outputs": [],
   "source": []
  },
  {
   "cell_type": "code",
   "execution_count": null,
   "metadata": {},
   "outputs": [],
   "source": []
  },
  {
   "cell_type": "code",
   "execution_count": null,
   "metadata": {},
   "outputs": [],
   "source": []
  },
  {
   "cell_type": "code",
   "execution_count": null,
   "metadata": {},
   "outputs": [],
   "source": []
  },
  {
   "cell_type": "code",
   "execution_count": null,
   "metadata": {},
   "outputs": [],
   "source": []
  },
  {
   "cell_type": "code",
   "execution_count": null,
   "metadata": {},
   "outputs": [],
   "source": []
  },
  {
   "cell_type": "code",
   "execution_count": null,
   "metadata": {},
   "outputs": [],
   "source": []
  },
  {
   "cell_type": "code",
   "execution_count": null,
   "metadata": {},
   "outputs": [],
   "source": []
  },
  {
   "cell_type": "code",
   "execution_count": null,
   "metadata": {},
   "outputs": [],
   "source": []
  },
  {
   "cell_type": "code",
   "execution_count": null,
   "metadata": {},
   "outputs": [],
   "source": []
  }
 ],
 "metadata": {
  "kernelspec": {
   "display_name": "Python [conda env:anaconda3]",
   "language": "python",
   "name": "conda-env-anaconda3-py"
  },
  "language_info": {
   "codemirror_mode": {
    "name": "ipython",
    "version": 3
   },
   "file_extension": ".py",
   "mimetype": "text/x-python",
   "name": "python",
   "nbconvert_exporter": "python",
   "pygments_lexer": "ipython3",
   "version": "3.6.4"
  }
 },
 "nbformat": 4,
 "nbformat_minor": 2
}
