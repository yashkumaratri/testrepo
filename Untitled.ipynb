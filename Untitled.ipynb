{
 "cells": [
  {
   "cell_type": "code",
   "execution_count": 1,
   "metadata": {
    "nbpresent": {
     "id": "815c3be3-fadd-4f87-b23a-671420a9ff11"
    }
   },
   "outputs": [
    {
     "name": "stderr",
     "output_type": "stream",
     "text": [
      "/home/aurora/anaconda3/lib/python3.6/site-packages/h5py/__init__.py:36: FutureWarning: Conversion of the second argument of issubdtype from `float` to `np.floating` is deprecated. In future, it will be treated as `np.float64 == np.dtype(float).type`.\n",
      "  from ._conv import register_converters as _register_converters\n"
     ]
    }
   ],
   "source": [
    "from encoder import Model\n",
    "from utils import preprocess\n",
    "import numpy as np\n",
    "import utils\n",
    "import seaborn as sns\n",
    "\n",
    "import matplotlib.pyplot as plt\n",
    "%matplotlib inline"
   ]
  },
  {
   "cell_type": "code",
   "execution_count": 2,
   "metadata": {
    "nbpresent": {
     "id": "8f421261-e838-41cf-9cae-0c2e8e78173f"
    }
   },
   "outputs": [
    {
     "name": "stdout",
     "output_type": "stream",
     "text": [
      "WARNING:tensorflow:From /home/aurora/Music/html end data/riseml/encoder.py:65: calling l2_normalize (from tensorflow.python.ops.nn_impl) with dim is deprecated and will be removed in a future version.\n",
      "Instructions for updating:\n",
      "dim is deprecated, use axis instead\n"
     ]
    }
   ],
   "source": [
    "model = Model()"
   ]
  },
  {
   "cell_type": "code",
   "execution_count": null,
   "metadata": {},
   "outputs": [],
   "source": []
  },
  {
   "cell_type": "code",
   "execution_count": 3,
   "metadata": {},
   "outputs": [],
   "source": [
    "def plot_neuron_heatmap(text, values):\n",
    "    preprocessed_text = utils.preprocess(text)\n",
    "    n_limit = 64\n",
    "    num_chars = len(preprocessed_text)\n",
    "\n",
    "    for i in np.arange(0, len(values), n_limit):\n",
    "        if i + n_limit > num_chars:\n",
    "            end_index = num_chars\n",
    "            #num_values_to_read = num_chars - i\n",
    "            #values_limited = values[-num_values_to_read:]\n",
    "            #values_reshaped = values_limited.reshape((1, num_values_to_read))\n",
    "        else:\n",
    "            end_index = i+n_limit\n",
    "        values_limited = values[i:end_index]\n",
    "        values_reshaped = values_limited.reshape((1, end_index - i))\n",
    "        chars_to_display = np.array(map(lambda x : str(x), list(preprocessed_text)[i:end_index])).reshape((1,end_index-i))\n",
    "        data = values_reshaped\n",
    "        labels = chars_to_display\n",
    "        fig, ax = plt.subplots(figsize=(20,0.5))\n",
    "        ax = sns.heatmap(data, annot = labels, fmt = '', annot_kws={\"size\":15}, vmin=-1, vmax=1, cmap='RdYlGn')"
   ]
  },
  {
   "cell_type": "code",
   "execution_count": 4,
   "metadata": {},
   "outputs": [],
   "source": [
    "review_text = \"good bad\""
   ]
  },
  {
   "cell_type": "code",
   "execution_count": 5,
   "metadata": {},
   "outputs": [],
   "source": [
    "sentiment_neuron_index = 2388"
   ]
  },
  {
   "cell_type": "code",
   "execution_count": 6,
   "metadata": {},
   "outputs": [],
   "source": [
    "def get_tracked_neuron_values_for_a_review(model, review_text, track_indices):\n",
    "    feats, tracked_indices_values = model.transform([review_text], track_indices=track_indices)\n",
    "    return np.array([np.array(vals).flatten() for vals in tracked_indices_values])"
   ]
  },
  {
   "cell_type": "code",
   "execution_count": 7,
   "metadata": {},
   "outputs": [
    {
     "name": "stdout",
     "output_type": "stream",
     "text": [
      "4.783 seconds to transform 1 examples\n"
     ]
    }
   ],
   "source": [
    "neuron_values = get_tracked_neuron_values_for_a_review(model, review_text, [sentiment_neuron_index])[0]"
   ]
  },
  {
   "cell_type": "code",
   "execution_count": 8,
   "metadata": {},
   "outputs": [
    {
     "data": {
      "text/plain": [
       "array([ 0.01258736,  0.03544582,  0.09762037,  0.0867667 ,  0.02880323,\n",
       "        0.06666981,  0.23721097,  0.22272731,  0.22017391,  0.1277321 ,\n",
       "       -0.02861538, -0.02861538, -0.02861538, -0.02861538, -0.02861538,\n",
       "       -0.02861538, -0.02861538, -0.02861538, -0.02861538, -0.02861538,\n",
       "       -0.02861538, -0.02861538, -0.02861538, -0.02861538, -0.02861538,\n",
       "       -0.02861538, -0.02861538, -0.02861538, -0.02861538, -0.02861538,\n",
       "       -0.02861538, -0.02861538, -0.02861538, -0.02861538, -0.02861538,\n",
       "       -0.02861538, -0.02861538, -0.02861538, -0.02861538, -0.02861538,\n",
       "       -0.02861538, -0.02861538, -0.02861538, -0.02861538, -0.02861538,\n",
       "       -0.02861538, -0.02861538, -0.02861538, -0.02861538, -0.02861538,\n",
       "       -0.02861538, -0.02861538, -0.02861538, -0.02861538, -0.02861538,\n",
       "       -0.02861538, -0.02861538, -0.02861538, -0.02861538, -0.02861538,\n",
       "       -0.02861538, -0.02861538, -0.02861538, -0.02861538], dtype=float32)"
      ]
     },
     "execution_count": 8,
     "metadata": {},
     "output_type": "execute_result"
    }
   ],
   "source": [
    "neuron_values"
   ]
  },
  {
   "cell_type": "code",
   "execution_count": null,
   "metadata": {},
   "outputs": [],
   "source": []
  },
  {
   "cell_type": "code",
   "execution_count": 9,
   "metadata": {},
   "outputs": [
    {
     "ename": "ValueError",
     "evalue": "cannot reshape array of size 1 into shape (1,11)",
     "output_type": "error",
     "traceback": [
      "\u001b[0;31m---------------------------------------------------------------------------\u001b[0m",
      "\u001b[0;31mValueError\u001b[0m                                Traceback (most recent call last)",
      "\u001b[0;32m<ipython-input-9-c52bc2963016>\u001b[0m in \u001b[0;36m<module>\u001b[0;34m()\u001b[0m\n\u001b[0;32m----> 1\u001b[0;31m \u001b[0mplot_neuron_heatmap\u001b[0m\u001b[0;34m(\u001b[0m\u001b[0mreview_text\u001b[0m\u001b[0;34m,\u001b[0m \u001b[0mneuron_values\u001b[0m\u001b[0;34m)\u001b[0m\u001b[0;34m\u001b[0m\u001b[0m\n\u001b[0m",
      "\u001b[0;32m<ipython-input-3-e96cc184fd39>\u001b[0m in \u001b[0;36mplot_neuron_heatmap\u001b[0;34m(text, values)\u001b[0m\n\u001b[1;32m     14\u001b[0m         \u001b[0mvalues_limited\u001b[0m \u001b[0;34m=\u001b[0m \u001b[0mvalues\u001b[0m\u001b[0;34m[\u001b[0m\u001b[0mi\u001b[0m\u001b[0;34m:\u001b[0m\u001b[0mend_index\u001b[0m\u001b[0;34m]\u001b[0m\u001b[0;34m\u001b[0m\u001b[0m\n\u001b[1;32m     15\u001b[0m         \u001b[0mvalues_reshaped\u001b[0m \u001b[0;34m=\u001b[0m \u001b[0mvalues_limited\u001b[0m\u001b[0;34m.\u001b[0m\u001b[0mreshape\u001b[0m\u001b[0;34m(\u001b[0m\u001b[0;34m(\u001b[0m\u001b[0;36m1\u001b[0m\u001b[0;34m,\u001b[0m \u001b[0mend_index\u001b[0m \u001b[0;34m-\u001b[0m \u001b[0mi\u001b[0m\u001b[0;34m)\u001b[0m\u001b[0;34m)\u001b[0m\u001b[0;34m\u001b[0m\u001b[0m\n\u001b[0;32m---> 16\u001b[0;31m         \u001b[0mchars_to_display\u001b[0m \u001b[0;34m=\u001b[0m \u001b[0mnp\u001b[0m\u001b[0;34m.\u001b[0m\u001b[0marray\u001b[0m\u001b[0;34m(\u001b[0m\u001b[0mmap\u001b[0m\u001b[0;34m(\u001b[0m\u001b[0;32mlambda\u001b[0m \u001b[0mx\u001b[0m \u001b[0;34m:\u001b[0m \u001b[0mstr\u001b[0m\u001b[0;34m(\u001b[0m\u001b[0mx\u001b[0m\u001b[0;34m)\u001b[0m\u001b[0;34m,\u001b[0m \u001b[0mlist\u001b[0m\u001b[0;34m(\u001b[0m\u001b[0mpreprocessed_text\u001b[0m\u001b[0;34m)\u001b[0m\u001b[0;34m[\u001b[0m\u001b[0mi\u001b[0m\u001b[0;34m:\u001b[0m\u001b[0mend_index\u001b[0m\u001b[0;34m]\u001b[0m\u001b[0;34m)\u001b[0m\u001b[0;34m)\u001b[0m\u001b[0;34m.\u001b[0m\u001b[0mreshape\u001b[0m\u001b[0;34m(\u001b[0m\u001b[0;34m(\u001b[0m\u001b[0;36m1\u001b[0m\u001b[0;34m,\u001b[0m\u001b[0mend_index\u001b[0m\u001b[0;34m-\u001b[0m\u001b[0mi\u001b[0m\u001b[0;34m)\u001b[0m\u001b[0;34m)\u001b[0m\u001b[0;34m\u001b[0m\u001b[0m\n\u001b[0m\u001b[1;32m     17\u001b[0m         \u001b[0mdata\u001b[0m \u001b[0;34m=\u001b[0m \u001b[0mvalues_reshaped\u001b[0m\u001b[0;34m\u001b[0m\u001b[0m\n\u001b[1;32m     18\u001b[0m         \u001b[0mlabels\u001b[0m \u001b[0;34m=\u001b[0m \u001b[0mchars_to_display\u001b[0m\u001b[0;34m\u001b[0m\u001b[0m\n",
      "\u001b[0;31mValueError\u001b[0m: cannot reshape array of size 1 into shape (1,11)"
     ]
    }
   ],
   "source": [
    "plot_neuron_heatmap(review_text, neuron_values)"
   ]
  },
  {
   "cell_type": "code",
   "execution_count": null,
   "metadata": {},
   "outputs": [],
   "source": []
  }
 ],
 "metadata": {
  "kernelspec": {
   "display_name": "Python [conda env:anaconda3]",
   "language": "python",
   "name": "conda-env-anaconda3-py"
  },
  "language_info": {
   "codemirror_mode": {
    "name": "ipython",
    "version": 3
   },
   "file_extension": ".py",
   "mimetype": "text/x-python",
   "name": "python",
   "nbconvert_exporter": "python",
   "pygments_lexer": "ipython3",
   "version": "3.6.4"
  }
 },
 "nbformat": 4,
 "nbformat_minor": 2
}
